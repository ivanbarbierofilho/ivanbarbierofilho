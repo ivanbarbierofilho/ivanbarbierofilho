{
  "nbformat": 4,
  "nbformat_minor": 0,
  "metadata": {
    "colab": {
      "provenance": [],
      "authorship_tag": "ABX9TyOgaOYxEtcmgeJm+MtjLmWr",
      "include_colab_link": true
    },
    "kernelspec": {
      "name": "python3",
      "display_name": "Python 3"
    },
    "language_info": {
      "name": "python"
    }
  },
  "cells": [
    {
      "cell_type": "markdown",
      "metadata": {
        "id": "view-in-github",
        "colab_type": "text"
      },
      "source": [
        "<a href=\"https://colab.research.google.com/github/ivanbarbierofilho/ivanbarbierofilho/blob/main/estudos_sobre_vari%C3%A1veis.ipynb\" target=\"_parent\"><img src=\"https://colab.research.google.com/assets/colab-badge.svg\" alt=\"Open In Colab\"/></a>"
      ]
    },
    {
      "cell_type": "markdown",
      "source": [],
      "metadata": {
        "id": "yw7M2kBBhNlY"
      }
    },
    {
      "cell_type": "code",
      "source": [
        "a = \"olá\"\n",
        "b = 3\n",
        "c = \"Ivan\"\n",
        "f\"olá {c}\"\n",
        "\n",
        "d = f\"olá, {c}\"\n",
        "print(d)"
      ],
      "metadata": {
        "colab": {
          "base_uri": "https://localhost:8080/"
        },
        "id": "TPYsLMgL6XMb",
        "outputId": "003e42c0-c23d-4f7c-cf90-d1c7dccda434"
      },
      "execution_count": null,
      "outputs": [
        {
          "output_type": "stream",
          "name": "stdout",
          "text": [
            "olá, Ivan\n"
          ]
        }
      ]
    }
  ]
}